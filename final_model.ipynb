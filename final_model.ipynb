{
 "cells": [
  {
   "cell_type": "code",
   "execution_count": 80,
   "metadata": {},
   "outputs": [],
   "source": [
    "import pandas as pd\n",
    "import numpy as np\n",
    "\n",
    "from datetime import datetime\n",
    "\n",
    "from sklearn import decomposition\n",
    "from sklearn.ensemble import *\n",
    "from sklearn.feature_selection import *\n",
    "from sklearn.model_selection import *\n",
    "from sklearn.preprocessing import *\n",
    "\n",
    "import tensorflow as tf\n",
    "from tensorflow import keras\n",
    "from tensorflow.keras import layers\n",
    "from tensorflow.keras.regularizers import L1L2\n",
    "from tensorflow.keras import backend as K\n",
    "from tensorflow.keras.callbacks import EarlyStopping\n",
    "\n",
    "import matplotlib.pyplot as plt\n",
    "\n",
    "import csv\n",
    "import time\n",
    "import copy\n",
    "import os\n",
    "import tempfile"
   ]
  },
  {
   "cell_type": "code",
   "execution_count": 94,
   "metadata": {},
   "outputs": [],
   "source": [
    "def normalize(data, stats):\n",
    "    to_normalize = ['price','release_date','purchase_date','date_diff','total_positive_reviews',\n",
    "            'total_negative_reviews','total_reviews','net_reviews','popularity','recommended']\n",
    "    for n in to_normalize:\n",
    "        if n in data.columns:\n",
    "            data[n] = (data[n] - stats[n]['mean']) / stats[n]['std'] \n"
   ]
  },
  {
   "cell_type": "code",
   "execution_count": 95,
   "metadata": {},
   "outputs": [],
   "source": [
    "def pre_process(dataset):\n",
    "    NOW = datetime.strptime('2019-10-31', '%Y-%m-%d')\n",
    "\n",
    "    genres = dataset['genres'].str.get_dummies(',').add_prefix('g:')\n",
    "    categories = dataset['categories'].str.get_dummies(',').add_prefix('c:')\n",
    "    tags = dataset['tags'].str.get_dummies(',').add_prefix('t:')\n",
    "    dataset = pd.concat([dataset, genres, categories, tags], axis=1)\n",
    "    dataset.reset_index(inplace=True, drop=True)\n",
    "    dataset.drop(['genres', 'categories', 'tags'], axis = 1, inplace=True)\n",
    "\n",
    "    dataset['purchase_date'] = np.where(dataset['purchase_date'].isnull(), \n",
    "                                        dataset['release_date'], dataset['purchase_date'])\n",
    "    dataset['total_positive_reviews'] = np.where(dataset['total_positive_reviews'].isnull(), \n",
    "                                        dataset['total_positive_reviews'].mean(), \n",
    "                                                 dataset['total_positive_reviews'])\n",
    "    dataset['total_negative_reviews'] = np.where(dataset['total_negative_reviews'].isnull(), \n",
    "                                        dataset['total_negative_reviews'].mean(), \n",
    "                                                 dataset['total_negative_reviews'])\n",
    "\n",
    "    dataset['is_free'] = dataset['is_free'].astype(int)\n",
    "    dataset['release_date'] = (NOW - dataset['release_date']).astype('timedelta64[D]')\n",
    "    dataset['purchase_date'] = (NOW - dataset['purchase_date']).astype('timedelta64[D]')\n",
    "    \n",
    "    dataset['date_diff'] = dataset['release_date'] - dataset['purchase_date']\n",
    "    dataset['total_reviews'] = dataset['total_positive_reviews'] + dataset['total_negative_reviews']\n",
    "    dataset['net_reviews'] = dataset['total_positive_reviews'] - dataset['total_negative_reviews']\n",
    "    dataset['popularity'] = dataset['total_reviews'] / dataset['release_date']\n",
    "    dataset['recommended'] = dataset['net_reviews'] / dataset['release_date']\n",
    "\n",
    "    dataset.fillna(0, inplace=True)\n",
    "    \n",
    "    normalize(dataset, dataset.describe())\n",
    "\n",
    "    return dataset"
   ]
  },
  {
   "cell_type": "code",
   "execution_count": 168,
   "metadata": {},
   "outputs": [
    {
     "name": "stdout",
     "output_type": "stream",
     "text": [
      "1574927100530\n"
     ]
    },
    {
     "name": "stderr",
     "output_type": "stream",
     "text": [
      "//anaconda3/lib/python3.7/site-packages/ipykernel_launcher.py:7: FutureWarning: Sorting because non-concatenation axis is not aligned. A future version\n",
      "of pandas will change to not sort by default.\n",
      "\n",
      "To accept the future behavior, pass 'sort=False'.\n",
      "\n",
      "To retain the current behavior and silence the warning, pass 'sort=True'.\n",
      "\n",
      "  import sys\n"
     ]
    }
   ],
   "source": [
    "stamp = str(time.time_ns()//1000000)\n",
    "print(stamp)\n",
    "\n",
    "train_csv = pd.read_csv('msbd5001-fall2019/train.csv', parse_dates=['purchase_date', 'release_date'])\n",
    "test_csv = pd.read_csv('msbd5001-fall2019/test.csv', parse_dates=['purchase_date', 'release_date'])\n",
    "\n",
    "# train data and test data are processed together\n",
    "# so they can use the same parameters to normalize \n",
    "# and contain the same dummy tags / genres / categories\n",
    "all_data = pre_process(pd.concat([train_csv, test_csv]))\n",
    "\n",
    "dataset = all_data.head(len(train_csv)).set_index(\"id\")\n",
    "\n",
    "# drop the outliers\n",
    "dataset.drop([220,312,76], inplace=True) \n",
    "\n",
    "# divide the data into 3 sets for stratified sampling when splitting the data into training set and validation set\n",
    "datasetA = dataset.loc[dataset['playtime_forever'] >= 8]\n",
    "datasetB = dataset.loc[(dataset['playtime_forever'] < 8) & (dataset['playtime_forever'] >= 1)]\n",
    "datasetC = dataset.loc[dataset['playtime_forever'] < 1]\n"
   ]
  },
  {
   "cell_type": "code",
   "execution_count": 169,
   "metadata": {},
   "outputs": [],
   "source": [
    "train_dataA, val_dataA = train_test_split(datasetA, test_size=0.10)\n",
    "train_dataB, val_dataB = train_test_split(datasetB, test_size=0.15)\n",
    "train_dataC, val_dataC = train_test_split(datasetC, test_size=0.20)\n",
    "\n",
    "train_data = dataset.loc[np.concatenate([train_dataA.index.values, train_dataB.index.values, train_dataC.index.values])]\n",
    "val_data = dataset.loc[np.concatenate([val_dataA.index.values, val_dataB.index.values, val_dataC.index.values])]\n",
    "\n",
    "# square root the target to reduce skewness\n",
    "train_target = np.array(train_data.pop('playtime_forever'))**0.5\n",
    "val_target = np.array(val_data.pop('playtime_forever'))**0.5\n",
    "\n",
    "train_data = np.array(train_data)\n",
    "val_data = np.array(val_data)\n"
   ]
  },
  {
   "cell_type": "code",
   "execution_count": 170,
   "metadata": {},
   "outputs": [
    {
     "name": "stdout",
     "output_type": "stream",
     "text": [
      ".......... \n",
      "{'loss': 1.6081063366598554, 'rmse': 3.0865483, 'val_loss': 1.0982649421150035, 'val_rmse': 1.6969016}\n",
      ".......... \n",
      "{'loss': 1.0161918292029037, 'rmse': 2.5300114, 'val_loss': 1.2156068312399315, 'val_rmse': 1.9886785}\n",
      ".......... \n",
      "{'loss': 0.6629674782355627, 'rmse': 2.0426915, 'val_loss': 1.3078276368253159, 'val_rmse': 2.080607}\n",
      ".......Epoch 00037: early stopping\n"
     ]
    }
   ],
   "source": [
    "def rmse(y_true, y_pred):\n",
    "    return K.sqrt(K.mean(K.square(y_pred**2 - y_true**2),axis=-1))\n",
    "\n",
    "def build_model(dim):\n",
    "    model = keras.Sequential([\n",
    "        layers.Dense(16, activation='relu', input_dim=dim, kernel_initializer='glorot_normal', \n",
    "                     kernel_regularizer=L1L2(l1=0.0,l2=0.001)),\n",
    "        layers.Dense(16, activation='relu', kernel_initializer='glorot_normal',\n",
    "                    kernel_regularizer=L1L2(l1=0.0,l2=0.001)),\n",
    "        layers.Dense(1,activation='linear', kernel_initializer='glorot_normal')\n",
    "    ])\n",
    "\n",
    "    optimizer = tf.keras.optimizers.Adam(learning_rate=0.0005, beta_1=0.9, beta_2=0.999, amsgrad=False)\n",
    "\n",
    "    model.compile(loss='mse',\n",
    "                  optimizer=optimizer,\n",
    "                  metrics=[rmse])\n",
    "    \n",
    "    return model\n",
    "\n",
    "class PrintProgress(keras.callbacks.Callback):\n",
    "    def on_epoch_end(self, epoch, logs):\n",
    "        print('.', end='')\n",
    "        if (epoch+1) % 10 == 0: \n",
    "            print(' ')\n",
    "            logs_new = copy.deepcopy(logs)\n",
    "            print(logs_new)\n",
    "\n",
    "early_stop = EarlyStopping(monitor='val_loss', patience=30, mode='min', verbose=1)            \n",
    "            \n",
    "EPOCHS = 150\n",
    "\n",
    "model = build_model(train_data.shape[1])\n",
    "\n",
    "history = model.fit(\n",
    "    train_data, train_target,\n",
    "    shuffle=True,\n",
    "    epochs=EPOCHS, verbose=0, validation_data=(val_data, val_target), batch_size=20,\n",
    "    callbacks=[PrintProgress(),early_stop])"
   ]
  },
  {
   "cell_type": "code",
   "execution_count": 172,
   "metadata": {},
   "outputs": [
    {
     "data": {
      "image/png": "[encoded data removed]",
      "text/plain": [
       "<Figure size 432x288 with 1 Axes>"
      ]
     },
     "metadata": {
      "needs_background": "light"
     },
     "output_type": "display_data"
    },
    {
     "data": {
      "image/png": "[encoded data removed]",
      "text/plain": [
       "<Figure size 432x288 with 1 Axes>"
      ]
     },
     "metadata": {
      "needs_background": "light"
     },
     "output_type": "display_data"
    }
   ],
   "source": [
    "def plot_history(history):\n",
    "    hist = pd.DataFrame(history.history)\n",
    "    hist['epoch'] = history.epoch\n",
    "\n",
    "    plt.figure()\n",
    "    plt.xlabel('Epoch')\n",
    "    plt.ylabel('Loss')\n",
    "    plt.plot(hist['epoch'], hist['loss'],\n",
    "           label='Train Error')\n",
    "    plt.plot(hist['epoch'], hist['val_loss'],\n",
    "           label = 'Val Error')\n",
    "    plt.ylim([0,5])\n",
    "    plt.legend()\n",
    "    \n",
    "    plt.figure()\n",
    "    plt.xlabel('Epoch')\n",
    "    plt.ylabel('Root Mean Square Error')\n",
    "    plt.plot(hist['epoch'], hist['rmse'],\n",
    "           label='Train Error')\n",
    "    plt.plot(hist['epoch'], hist['val_rmse'],\n",
    "           label = 'Val Error')\n",
    "    plt.ylim([0,5])\n",
    "    plt.legend()\n",
    "    \n",
    "    plt.show()\n",
    "\n",
    "plot_history(history)\n"
   ]
  },
  {
   "cell_type": "code",
   "execution_count": 173,
   "metadata": {
    "scrolled": true
   },
   "outputs": [
    {
     "name": "stdout",
     "output_type": "stream",
     "text": [
      "0,0.7296401350397588\n",
      "1,0.1901455784732775\n",
      "2,0\n",
      "3,0\n",
      "4,5.624397938373079\n",
      "5,0.33612893188637827\n",
      "6,0\n",
      "7,0\n",
      "8,1.3469548815193235\n",
      "9,0.9264082694064655\n",
      "10,2.064843711708818\n",
      "11,0\n",
      "12,9.769988547326648\n",
      "13,0.8179109892431349\n",
      "14,2.0944856606310083\n",
      "15,0\n",
      "16,1.023468215932155\n",
      "17,1.3975307794749483\n",
      "18,2.3385859528080033\n",
      "19,0.08517550089669612\n",
      "20,0.09533650255186021\n",
      "21,1.2263282916137541\n",
      "22,0\n",
      "23,0.12064616435907372\n",
      "24,0.11928230649991267\n",
      "25,0.021058727374472008\n",
      "26,0\n",
      "27,0.4642694902305635\n",
      "28,0.31264183522640465\n",
      "29,1.731807955068021\n",
      "30,0.8412046139086584\n",
      "31,16.100594783431234\n",
      "32,0\n",
      "33,0.011664703890929218\n",
      "34,2.6416436521925704\n",
      "35,0.5692291041523276\n",
      "36,0.01799297586323778\n",
      "37,11.05801159862699\n",
      "38,2.9239639616576483\n",
      "39,0\n",
      "40,0.6024125051204123\n",
      "41,0\n",
      "42,3.441090968781978\n",
      "43,0.723212145727814\n",
      "44,0.38522135990021766\n",
      "45,1.8723211216802724\n",
      "46,0\n",
      "47,0.11870206151174045\n",
      "48,0\n",
      "49,3.673028346499052\n",
      "50,0.7719455034488334\n",
      "51,0\n",
      "52,0\n",
      "53,0\n",
      "54,0.016283303787336445\n",
      "55,0.14743020870844337\n",
      "56,0.08852936531412414\n",
      "57,0.43013991726935785\n",
      "58,0\n",
      "59,0.20157530968880621\n",
      "60,0.60762527978126\n",
      "61,0.29867146562914115\n",
      "62,0.287802550723427\n",
      "63,13.653100269039896\n",
      "64,0\n",
      "65,0.8514079363022944\n",
      "66,0.03576149721288702\n",
      "67,0.4735568055443231\n",
      "68,1.685270961588742\n",
      "69,0.10429834227132151\n",
      "70,0.08829164961059988\n",
      "71,0.2594744644114577\n",
      "72,0\n",
      "73,5.1909922321333966\n",
      "74,0.3259156070026279\n",
      "75,30.22374818303888\n",
      "76,8.813514784019901\n",
      "77,2.0519418511599383\n",
      "78,1.0914977780265787\n",
      "79,0.2553850018741741\n",
      "80,0.3107305629203019\n",
      "81,1.6324397810322466\n",
      "82,0.030207866681312368\n",
      "83,1.8813075763921603\n",
      "84,2.9064589142799377\n",
      "85,0\n",
      "86,0\n",
      "87,0.03480897232057689\n",
      "88,4.973404124256376\n",
      "89,0\n"
     ]
    }
   ],
   "source": [
    "test_data = all_data.tail(len(test_csv)).set_index(\"id\")\n",
    "test_data.pop('playtime_forever')\n",
    "\n",
    "test_predict = model.predict(np.array(test_data))\n",
    "\n",
    "file_name = 'result_'+stamp+'.csv'\n",
    "\n",
    "with open(file_name, mode='w') as result_file:\n",
    "    writer = csv.writer(result_file, delimiter=',')\n",
    "    writer.writerow(['id', 'playtime_forever'])\n",
    "    for i,f in enumerate(test_predict):\n",
    "        r = f[0]**2 if f[0] > 0.1 else 0\n",
    "        print(str(i)+','+str(r))\n",
    "        writer.writerow([i, r])"
   ]
  },
  {
   "cell_type": "code",
   "execution_count": 174,
   "metadata": {},
   "outputs": [
    {
     "name": "stdout",
     "output_type": "stream",
     "text": [
      "Model: \"sequential_25\"\n",
      "_________________________________________________________________\n",
      "Layer (type)                 Output Shape              Param #   \n",
      "=================================================================\n",
      "dense_76 (Dense)             (None, 16)                6048      \n",
      "_________________________________________________________________\n",
      "dense_77 (Dense)             (None, 16)                272       \n",
      "_________________________________________________________________\n",
      "dense_78 (Dense)             (None, 1)                 17        \n",
      "=================================================================\n",
      "Total params: 6,337\n",
      "Trainable params: 6,337\n",
      "Non-trainable params: 0\n",
      "_________________________________________________________________\n"
     ]
    }
   ],
   "source": [
    "model.summary()"
   ]
  },
  {
   "cell_type": "code",
   "execution_count": 175,
   "metadata": {},
   "outputs": [],
   "source": [
    "model_name = 'model_'+stamp+'.h5'\n",
    "model.save(model_name)"
   ]
  },
  {
   "cell_type": "code",
   "execution_count": null,
   "metadata": {},
   "outputs": [],
   "source": [
    "model = tf.keras.models.load_model('model.h5')\n",
    "\n",
    "train_csv = pd.read_csv('msbd5001-fall2019/train.csv', parse_dates=['purchase_date', 'release_date'])\n",
    "test_csv = pd.read_csv('msbd5001-fall2019/test.csv', parse_dates=['purchase_date', 'release_date'])\n",
    "all_data = pre_process(pd.concat([train_csv, test_csv]))\n",
    "\n",
    "test = all_data.tail(len(test_csv)).set_index(\"id\")\n",
    "test_data.pop('playtime_forever')\n",
    "test_predict = model.predict(np.array(test_data))"
   ]
  }
 ],
 "metadata": {
  "kernelspec": {
   "display_name": "Python 3",
   "language": "python",
   "name": "python3"
  },
  "language_info": {
   "codemirror_mode": {
    "name": "ipython",
    "version": 3
   },
   "file_extension": ".py",
   "mimetype": "text/x-python",
   "name": "python",
   "nbconvert_exporter": "python",
   "pygments_lexer": "ipython3",
   "version": "3.7.3"
  }
 },
 "nbformat": 4,
 "nbformat_minor": 2
}
